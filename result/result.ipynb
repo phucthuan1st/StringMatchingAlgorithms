{
 "cells": [
  {
   "cell_type": "code",
   "execution_count": 13,
   "metadata": {},
   "outputs": [],
   "source": [
    "import pandas as pd"
   ]
  },
  {
   "cell_type": "code",
   "execution_count": 14,
   "metadata": {},
   "outputs": [],
   "source": [
    "bruteforce = pd.read_csv('Bruteforce.csv')\n",
    "kmp = pd.read_csv('KMP.csv')\n",
    "rk = pd.read_csv('RabinKarp.csv')"
   ]
  },
  {
   "cell_type": "code",
   "execution_count": 15,
   "metadata": {},
   "outputs": [
    {
     "name": "stdout",
     "output_type": "stream",
     "text": [
      "    Pattern length  Data length  Number of assign  Number of compare\n",
      "0               10         6737             13532              27052\n",
      "1               49         6737             13439              26873\n",
      "2               71         6737             13440              26875\n",
      "3               85         6737             13357              26709\n",
      "4              124         6737             13266              26527\n",
      "5               10        40579             81481             162926\n",
      "6               49        40579             81424             162843\n",
      "7               71        40579             81492             162979\n",
      "8               85        40579             81231             162457\n",
      "9              124        40579             81162             162319\n",
      "10              10       108291            217393             434705\n",
      "11              49       108291            217378             434750\n",
      "12              71       108291            217876             435746\n",
      "13              85       108291            217109             434212\n",
      "14             124       108291            217104             434202\n"
     ]
    }
   ],
   "source": [
    "print(bruteforce)"
   ]
  },
  {
   "cell_type": "code",
   "execution_count": 16,
   "metadata": {},
   "outputs": [
    {
     "name": "stdout",
     "output_type": "stream",
     "text": [
      "    Pattern length  Data length  Number of assign  Number of compare\n",
      "0               10         6737              6845              33637\n",
      "1               49         6737              6911              33786\n",
      "2               71         6737              7006              33813\n",
      "3               85         6737              6973              33904\n",
      "4              124         6737              7034              34030\n",
      "5               10        40579             41001             202583\n",
      "6               49        40579             41121             202762\n",
      "7               71        40579             41307             202746\n",
      "8               85        40579             41072             202991\n",
      "9              124        40579             41160             203098\n",
      "10              10       108291            109284             540648\n",
      "11              49       108291            109487             540914\n",
      "12              71       108291            110159             540524\n",
      "13              85       108291            109362             541219\n",
      "14             124       108291            109517             541267\n"
     ]
    }
   ],
   "source": [
    "print(kmp)"
   ]
  },
  {
   "cell_type": "code",
   "execution_count": 17,
   "metadata": {},
   "outputs": [
    {
     "name": "stdout",
     "output_type": "stream",
     "text": [
      "    Pattern length  Data length  Number of assign  Number of compare\n",
      "0               10         6737             20519              27282\n",
      "1               49         6737             20486              27023\n",
      "2               71         6737             20515              26964\n",
      "3               85         6737             20558              26951\n",
      "4              124         6737             20630              26867\n",
      "5               10        40579            123116             163961\n",
      "6               49        40579            122732             163111\n",
      "7               71        40579            122864             163168\n",
      "8               85        40579            122876             163111\n",
      "9              124        40579            122909             162988\n",
      "10              10       108291            328394             437401\n",
      "11              49       108291            327566             435706\n",
      "12              71       108291            327691             435794\n",
      "13              85       108291            327516             435549\n",
      "14             124       108291            327831             435750\n"
     ]
    }
   ],
   "source": [
    "print(rk)"
   ]
  }
 ],
 "metadata": {
  "kernelspec": {
   "display_name": "Python 3.9.0 64-bit",
   "language": "python",
   "name": "python3"
  },
  "language_info": {
   "codemirror_mode": {
    "name": "ipython",
    "version": 3
   },
   "file_extension": ".py",
   "mimetype": "text/x-python",
   "name": "python",
   "nbconvert_exporter": "python",
   "pygments_lexer": "ipython3",
   "version": "3.9.0"
  },
  "orig_nbformat": 4,
  "vscode": {
   "interpreter": {
    "hash": "ff1200cc413885a26299d5081e03f20b97b392fc1baa637c4818e9e43d99bbec"
   }
  }
 },
 "nbformat": 4,
 "nbformat_minor": 2
}
