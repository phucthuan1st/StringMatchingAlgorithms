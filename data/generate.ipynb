{
 "cells": [
  {
   "cell_type": "code",
   "execution_count": 2,
   "metadata": {},
   "outputs": [],
   "source": [
    "from random import randint\n",
    "\n",
    "nucleotide = ['A', 'T', 'G', 'X']\n",
    "\n",
    "large_data = \"\"\n",
    "\n",
    "for _ in range(1000000):\n",
    "    large_data += nucleotide[randint(0, 3)]\n",
    "    \n",
    "small_data = large_data[:10000]\n",
    "medium_data = large_data[:100000]\n",
    "\n",
    "matched_pattern = large_data[1000:1100]\n",
    "\n",
    "with open(\"small-data.txt\", \"w\") as f:\n",
    "    f.write(small_data)\n",
    "    \n",
    "with open(\"medium-data.txt\", \"w\") as f:\n",
    "    f.write(medium_data)\n",
    "    \n",
    "with open(\"large-data.txt\", \"w\") as f:\n",
    "    f.write(large_data)\n",
    "    \n",
    "pattern = \"\"\n",
    "\n",
    "for _ in range(1000):\n",
    "    pattern += nucleotide[randint(0, 3)]\n",
    "\n",
    "with open(\"patterns.txt\", \"w\") as f:\n",
    "    f.write(pattern[:10] + '\\n')\n",
    "    f.write(pattern[:20] + '\\n')\n",
    "    f.write(pattern[:50] + '\\n')\n",
    "    f.write(matched_pattern + '\\n')\n",
    "    f.write(pattern[:200] + '\\n')\n",
    "    f.write(pattern[:500] + '\\n')\n",
    "    f.write(pattern)"
   ]
  }
 ],
 "metadata": {
  "kernelspec": {
   "display_name": "Python 3.9.0 64-bit",
   "language": "python",
   "name": "python3"
  },
  "language_info": {
   "codemirror_mode": {
    "name": "ipython",
    "version": 3
   },
   "file_extension": ".py",
   "mimetype": "text/x-python",
   "name": "python",
   "nbconvert_exporter": "python",
   "pygments_lexer": "ipython3",
   "version": "3.9.0"
  },
  "orig_nbformat": 4,
  "vscode": {
   "interpreter": {
    "hash": "ff1200cc413885a26299d5081e03f20b97b392fc1baa637c4818e9e43d99bbec"
   }
  }
 },
 "nbformat": 4,
 "nbformat_minor": 2
}
