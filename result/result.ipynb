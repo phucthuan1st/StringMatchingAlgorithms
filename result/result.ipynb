{
 "cells": [
  {
   "cell_type": "code",
   "execution_count": 21,
   "metadata": {},
   "outputs": [],
   "source": [
    "import pandas as pd"
   ]
  },
  {
   "cell_type": "code",
   "execution_count": 22,
   "metadata": {},
   "outputs": [],
   "source": [
    "bruteforce = pd.read_csv('Bruteforce.csv')\n",
    "kmp = pd.read_csv('KMP.csv')\n",
    "rk = pd.read_csv('RabinKarp.csv')"
   ]
  },
  {
   "cell_type": "code",
   "execution_count": 23,
   "metadata": {},
   "outputs": [
    {
     "name": "stdout",
     "output_type": "stream",
     "text": [
      "    Pattern length  Data length  Number of assign  Number of compare\n",
      "0               10        10000             23377              46749\n",
      "1               20        10000             23355              46705\n",
      "2               50        10000             23279              46553\n",
      "3              100        10000             23273              46540\n",
      "4              200        10000             22923              45841\n",
      "5              500        10000             22240              44475\n",
      "6             1000        10000             21077              42149\n",
      "7               10       100000            233159             466313\n",
      "8               20       100000            233133             466261\n",
      "9               50       100000            233058             466111\n",
      "10             100       100000            233013             466020\n",
      "11             200       100000            232695             465385\n",
      "12             500       100000            231989             463973\n",
      "13            1000       100000            230824             461643\n",
      "14              10      1000000           2332082            4664158\n",
      "15              20      1000000           2332057            4664109\n",
      "16              50      1000000           2331987            4663969\n",
      "17             100      1000000           2331348            4662690\n",
      "18             200      1000000           2331635            4663265\n",
      "19             500      1000000           2330937            4661869\n",
      "20            1000      1000000           2329765            4659525\n"
     ]
    }
   ],
   "source": [
    "print(bruteforce)"
   ]
  },
  {
   "cell_type": "code",
   "execution_count": 24,
   "metadata": {},
   "outputs": [
    {
     "name": "stdout",
     "output_type": "stream",
     "text": [
      "    Pattern length  Data length  Number of assign  Number of compare\n",
      "0               10        10000             15955              49175\n",
      "1               20        10000             15977              49207\n",
      "2               50        10000             16047              49307\n",
      "3              100        10000             15378              51286\n",
      "4              200        10000             16443              49833\n",
      "5              500        10000             17202              50850\n",
      "6             1000        10000             18478              52554\n",
      "7               10       100000            158064             491780\n",
      "8               20       100000            158086             491812\n",
      "9               50       100000            158156             491912\n",
      "10             100       100000            150080             511004\n",
      "11             200       100000            158552             492438\n",
      "12             500       100000            159311             493455\n",
      "13            1000       100000            160587             495159\n",
      "14              10      1000000           1580871            4917649\n",
      "15              20      1000000           1580893            4917683\n",
      "16              50      1000000           1580963            4917783\n",
      "17             100      1000000           1498435            5108199\n",
      "18             200      1000000           1581359            4918309\n",
      "19             500      1000000           1582118            4919326\n",
      "20            1000      1000000           1583394            4921030\n"
     ]
    }
   ],
   "source": [
    "print(kmp)"
   ]
  },
  {
   "cell_type": "code",
   "execution_count": 25,
   "metadata": {},
   "outputs": [
    {
     "name": "stdout",
     "output_type": "stream",
     "text": [
      "    Pattern length  Data length  Number of assign  Number of compare\n",
      "0               10        10000             30295              40274\n",
      "1               20        10000             30293              40228\n",
      "2               50        10000             30376              40202\n",
      "3              100        10000             30588              40306\n",
      "4              200        10000             30697              39917\n",
      "5              500        10000             31267              39281\n",
      "6             1000        10000             32244              38271\n",
      "7               10       100000            302565             402762\n",
      "8               20       100000            302708             402898\n",
      "9               50       100000            302772             402810\n",
      "10             100       100000            302976             402979\n",
      "11             200       100000            303121             402608\n",
      "12             500       100000            303663             401922\n",
      "13            1000       100000            304464             400728\n",
      "14              10      1000000           3026450            4029020\n",
      "15              20      1000000           3026004            4028499\n",
      "16              50      1000000           3025581            4027809\n",
      "17             100      1000000           3026335            4028646\n",
      "18             200      1000000           3026913            4028793\n",
      "19             500      1000000           3027186            4027719\n",
      "20            1000      1000000           3028302            4026945\n"
     ]
    }
   ],
   "source": [
    "print(rk)"
   ]
  }
 ],
 "metadata": {
  "kernelspec": {
   "display_name": "Python 3.9.0 64-bit",
   "language": "python",
   "name": "python3"
  },
  "language_info": {
   "codemirror_mode": {
    "name": "ipython",
    "version": 3
   },
   "file_extension": ".py",
   "mimetype": "text/x-python",
   "name": "python",
   "nbconvert_exporter": "python",
   "pygments_lexer": "ipython3",
   "version": "3.9.0"
  },
  "orig_nbformat": 4,
  "vscode": {
   "interpreter": {
    "hash": "ff1200cc413885a26299d5081e03f20b97b392fc1baa637c4818e9e43d99bbec"
   }
  }
 },
 "nbformat": 4,
 "nbformat_minor": 2
}
